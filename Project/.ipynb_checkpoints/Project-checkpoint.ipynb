{
 "cells": [
  {
   "cell_type": "markdown",
   "id": "cb20aa51-9534-42dd-bc72-a94f5980e538",
   "metadata": {},
   "source": [
    "<center><strong><h1>\n",
    "    ADA FINAL PROJECT II </h1></strong></center>"
   ]
  },
  {
   "cell_type": "markdown",
   "id": "8d4c99a6-81bf-4811-ac1c-fb1368735c68",
   "metadata": {
    "tags": []
   },
   "source": [
    "<center>\n",
    "<img src=\"https://i.postimg.cc/G3vX5dvW/new-product-sales-turn-innovation-into-growth-4x.png\" width=\"600\" alt=\"cognitiveclass.ai logo\"  /></center>"
   ]
  },
  {
   "cell_type": "markdown",
   "id": "755112e1-2bca-4eec-9592-7a375c38a814",
   "metadata": {
    "tags": []
   },
   "source": [
    "# Project Scope"
   ]
  },
  {
   "cell_type": "markdown",
   "id": "8add72d9-0fa2-460f-abc5-40a288e87961",
   "metadata": {
    "jp-MarkdownHeadingCollapsed": true,
    "tags": []
   },
   "source": [
    "## Introdução"
   ]
  },
  {
   "cell_type": "markdown",
   "id": "857fbdd7-3f18-47f4-b522-6288b6e91b56",
   "metadata": {},
   "source": [
    "Na área de Ciência de dados, é comum o **manuseio, organização, transformação e extração** de conhecimento de um **grande volume de dados**. Neste projeto, seremos responsável por **coletar dados, armazená-los em diferentes bases de dados** e realizar uma **análise exploratória de dados** de uma empresa exportadora de produtos. \n",
    "\n",
    "Para isso, iremos acesso a um servidor que transmite dados em JSON (via localhost:3000) com o seguinte template:\n",
    "- **id:** Identificação da transação realizada.\n",
    "- **time:** data da transação (Unix Timestamp).\n",
    "- **prod_0 – prod_7:** quantidade de produtos comprados (em unidades).\n",
    "- **prod_8 – prod_20:** quantidade de produtos comprados (em kg).\n"
   ]
  },
  {
   "cell_type": "markdown",
   "id": "b4c2643f-79a2-418b-8baa-6c0f7c7b6749",
   "metadata": {
    "jp-MarkdownHeadingCollapsed": true,
    "tags": []
   },
   "source": [
    "### Objetivo Principal"
   ]
  },
  {
   "cell_type": "markdown",
   "id": "946cb9aa-3cb7-4b4c-8619-d4124b2ae03d",
   "metadata": {},
   "source": [
    "Realizar uma **análise de dados** afim de avaliar como as **vendas de uma carteira de produtos ou serviços** podem gerar ***insights*** ao negócio, buscando propor soluções ou informações que apoiarão a tomada de decisão dos gestores da empresa"
   ]
  },
  {
   "cell_type": "markdown",
   "id": "5f13dd1a-e1bd-48c5-8807-8d0da9f23b23",
   "metadata": {
    "tags": []
   },
   "source": [
    "### Objetivos Secundários"
   ]
  },
  {
   "cell_type": "markdown",
   "id": "57e37d69-d5f2-4309-9732-251a3778ff8b",
   "metadata": {},
   "source": [
    "**Para objetivos secundários, esperamos que nossas análises respondam os seguintes questionamentos:**\n",
    "- Quais produtos tiveram maiores índices de vendas? \n",
    "- Qual foi o melhor mês para vendas? Quanto foi ganho naquele mês?\n",
    "- Qual foi o melhor ano para vendas? Quanto foi ganho naquele ano?\n",
    "- Qual foi a média/max/min dos preços de cada produto?\n",
    "- Existe alguma correlação entre produtos vendidos?\n",
    "- Quais indicações poderiam ser levantadas?\n"
   ]
  },
  {
   "cell_type": "markdown",
   "id": "8d809c6b-5d99-4a73-b3bf-24e6d8a1b2e0",
   "metadata": {
    "jp-MarkdownHeadingCollapsed": true,
    "tags": []
   },
   "source": [
    "## Imports"
   ]
  },
  {
   "cell_type": "code",
   "execution_count": null,
   "id": "15185743-2122-4397-ab87-604b918a3839",
   "metadata": {},
   "outputs": [],
   "source": [
    "import pandas as pd\n",
    "import numpy as np\n",
    "import requests\n",
    "import datetime \n",
    "import random\n",
    "\n",
    "import matplotlib.pyplot as plt\n",
    "import seaborn as sns\n",
    "%matplotlib inline \n",
    "\n",
    "import warnings"
   ]
  },
  {
   "cell_type": "code",
   "execution_count": null,
   "id": "c47fbed0-375d-4135-b25a-5cb40f654616",
   "metadata": {},
   "outputs": [],
   "source": [
    "# show all Columns\n",
    "pd.set_option(\"display.max_columns\", None)\n",
    "\n",
    "#  warnings package to suppress warnings\n",
    "warnings.filterwarnings('ignore')\n",
    "\n",
    "# Display a pandas DataFrame with a given format using:\n",
    "pd.options.display.float_format = '{:.2f}'.format"
   ]
  },
  {
   "cell_type": "markdown",
   "id": "56c7dc1a-d6f2-4a68-b72a-6d2b74df9ff8",
   "metadata": {
    "jp-MarkdownHeadingCollapsed": true,
    "tags": []
   },
   "source": [
    "## Main Fuctions"
   ]
  },
  {
   "cell_type": "code",
   "execution_count": null,
   "id": "d2866d95-fefc-4fb5-b44f-d50cede0a189",
   "metadata": {},
   "outputs": [],
   "source": [
    "dict_price = {}\n",
    "df_concat = pd.DataFrame()"
   ]
  },
  {
   "cell_type": "code",
   "execution_count": null,
   "id": "2ddf7518-afe2-49aa-b6fc-d2f3e05a410f",
   "metadata": {},
   "outputs": [],
   "source": [
    "# Function to request the api created\n",
    "def request_api (x:str):\n",
    "    '''\n",
    "    x: str <- link da API\n",
    "    '''\n",
    "    exemple = requests.get(x)\n",
    "    dados = exemple.json()\n",
    "    df = pd.json_normalize(dados)\n",
    "    df.iloc[:,2:] = df.iloc[:,2:].abs()\n",
    "\n",
    "    return df"
   ]
  },
  {
   "cell_type": "code",
   "execution_count": null,
   "id": "ddc68c06-ae86-4aaf-a238-2a22f19e35b2",
   "metadata": {},
   "outputs": [],
   "source": [
    "# getting a list of generated products (columns):\n",
    "def prod_in_columns():\n",
    "    global products\n",
    "    products = df_api.columns\n",
    "    products = products[2:]\n",
    "    return products\n",
    "\n",
    "# transforming prod_0 – prod_7 into integer, because quantity of products purchased is in units:\n",
    "def integer_prod():\n",
    "    for i in products:\n",
    "        for j in range(8):\n",
    "            if i == f'prod_{j}':\n",
    "                df_api[i] = df_api[i].apply(np.floor)\n",
    "    \n",
    "\n",
    "# creating random prices for items for the first time\n",
    "def price_products():    \n",
    "    for i in products:\n",
    "        if i not in dict_price.keys():\n",
    "            # dict_price{   Prod:   [ Preço(t),             Preço(t+1),  M(t-1),     M(t)} \n",
    "            #                           [0]                     [1]        [2]       [3]      \n",
    "            dict_price[i] = [round(random.uniform(5,50),2),   None,     None,     None]            \n",
    "            dict_price[i][3] = df_api[i].mean()\n",
    "            dict_price[i][1] = dict_price[i][0] \n",
    "        else:\n",
    "            dict_price[i][0] = dict_price[i][1]\n",
    "            dict_price[i][2] = dict_price[i][3]\n",
    "            dict_price[i][3] = df_api[i].mean()\n",
    "            if dict_price[i][2] != 0:\n",
    "                v = ((dict_price[i][3] - dict_price[i][2]) / dict_price[i][2])\n",
    "            else:\n",
    "                v = 0            \n",
    "            fv = 0.5 + (1 / (1 + np.exp(-v)))\n",
    "            pt = dict_price[i][0]\n",
    "            dict_price[i][1] = fv * pt            \n",
    "    \n",
    "\n",
    "# apply the unit price created into the main DataFrame\n",
    "def unit_price():\n",
    "    for i in products:\n",
    "        indice_column = df_api.columns.get_loc(i)\n",
    "        indice_column += 1\n",
    "        df_api.insert(indice_column,f'{i}_unit_price',dict_price[i][0])\n",
    "    \n",
    "\n",
    "# creating a column with profits (quantity x unit price)\n",
    "def prod_profit():\n",
    "    for i in products:\n",
    "        indice_column = df_api.columns.get_loc(i)\n",
    "        indice_column += 2\n",
    "        df_api.insert(indice_column,f'{i}_revenue',(df_api[i]*df_api[f'{i}_unit_price']))\n",
    "        df_api[f'{i}_revenue'] = df_api[f'{i}_revenue'].apply(lambda x: round(x,2))\n",
    "    \n",
    "\n",
    "# concatenating the dataframes generated from the API\n",
    "def concat_api():\n",
    "    global df_concat\n",
    "    df_concat = pd.concat([df_concat, df_api], axis=0, join='outer')\n",
    "    df_concat= df_concat.reset_index(drop=True)\n",
    "    "
   ]
  },
  {
   "cell_type": "code",
   "execution_count": null,
   "id": "ef0a19e3-6b31-4b0b-8ccd-5ac7c13fd333",
   "metadata": {},
   "outputs": [],
   "source": [
    "# Creating Data Bases\n",
    "\n",
    "def database_all_sells():\n",
    "    global df_all_sells\n",
    "    \n",
    "    df_id_date = df_concat.iloc[:,:2]\n",
    "    df_all_sells = pd.concat([df_id_date, df_concat.iloc[:,2::3]], axis=1, join='outer')    \n",
    "    \n",
    "    return df_all_sells.to_csv('df_all_sells.csv')\n",
    "\n",
    "def database_monthly_sells():\n",
    "    global df_monthly_sells, df_prod\n",
    "    \n",
    "    df_id_date = df_concat.iloc[:,:2]\n",
    "    df_prod = pd.concat([df_id_date, df_concat.iloc[:,2::3]], axis=1, join='outer')\n",
    "    df_monthly_sells = df_prod.groupby(pd.Grouper(key='date', freq='M')).sum()    \n",
    "    \n",
    "    return df_monthly_sells.to_csv(\"df_monthly_sells.csv\")\n",
    "\n",
    "def database_weekly_price():\n",
    "    global df_weekly_price \n",
    "    \n",
    "    df_id_date = df_concat.iloc[:,:2]\n",
    "    df_prod_price = pd.concat([df_id_date, df_concat.iloc[:,3::3]], axis=1, join='outer')\n",
    "    df_prod_price.insert(0,'Year', df_prod_price['date'].dt.isocalendar().year)\n",
    "    df_prod_price.insert(1,'Week', df_prod_price['date'].dt.isocalendar().week)\n",
    "    df_weekly_price = df_prod_price.groupby(pd.Grouper(key='date', freq='W')).max()\n",
    "    df_weekly_price = df_weekly_price.drop(columns=['id'])\n",
    "    \n",
    "    return df_weekly_price.to_csv(\"df_weekly_price.csv\")\n",
    "\n",
    "def database_monthly_revenue():\n",
    "    global df_monthly_revenue \n",
    "    \n",
    "    df_id_date = df_concat.iloc[:,:2]\n",
    "    df_prod_revenue = pd.concat([df_id_date, df_concat.iloc[:,4::3]], axis=1, join='outer')\n",
    "    df_monthly_revenue = df_prod_revenue.groupby(pd.Grouper(key='date', freq='M')).sum()\n",
    "    df_monthly_revenue.columns = df_prod.columns[2:]\n",
    "    df_monthly_revenue['balance'] = df_monthly_revenue.iloc[:,:].sum(axis = 1)\n",
    "        \n",
    "    return df_monthly_revenue.to_csv(\"df_month_revenue.csv\")\n",
    "\n",
    "def database_consolidate():\n",
    "    global  df_consolidate   \n",
    "    \n",
    "    df_consolidate = df_monthly_revenue.T\n",
    "    df_consolidate.drop(['balance'],inplace=True)\n",
    "    df_consolidate['balance'] = df_consolidate.iloc[:,:].sum(axis = 1)\n",
    "    df_consolidate.index.name = 'product'\n",
    "\n",
    "    return df_consolidate.to_csv(\"df_consolidate.csv\")"
   ]
  },
  {
   "cell_type": "markdown",
   "id": "6fd716b6-d509-493a-ad67-a6e801716f7c",
   "metadata": {
    "jp-MarkdownHeadingCollapsed": true,
    "tags": []
   },
   "source": [
    "## Running the Code\n"
   ]
  },
  {
   "cell_type": "code",
   "execution_count": null,
   "id": "e43239c1-53de-4da0-9b58-b4e1e8bddb25",
   "metadata": {},
   "outputs": [],
   "source": [
    "# IMPORTANT: Use df_api as variable\n",
    "for i in range(200):\n",
    "    df_api = request_api('http://localhost:3000/api/ep1')\n",
    "    prod_in_columns()\n",
    "    integer_prod()\n",
    "    price_products()\n",
    "    unit_price()\n",
    "    prod_profit()\n",
    "    concat_api()\n",
    "    \n",
    "df_concat['date']= pd.to_datetime(df_concat['date'], unit='s')  \n",
    "\n",
    "database_all_sells()\n",
    "database_monthly_sells()\n",
    "database_weekly_price()\n",
    "database_monthly_revenue()\n",
    "database_consolidate()"
   ]
  },
  {
   "cell_type": "markdown",
   "id": "c1d5d636-f5bf-4857-94bb-cc36affeeefa",
   "metadata": {
    "jp-MarkdownHeadingCollapsed": true,
    "tags": []
   },
   "source": [
    "## Workflow"
   ]
  },
  {
   "cell_type": "markdown",
   "id": "5b7fa3c0-74d3-48ce-ae2e-effd5d817df5",
   "metadata": {
    "tags": []
   },
   "source": [
    "### Part I - Creating DataFrame and Data Wrangling"
   ]
  },
  {
   "cell_type": "code",
   "execution_count": null,
   "id": "20c54aae-b78d-4bd6-b52a-52a0102ad493",
   "metadata": {},
   "outputs": [],
   "source": [
    "# Function to request the api created\n",
    "def request_api (x:str):\n",
    "    '''\n",
    "    x: str <- link da API\n",
    "    '''\n",
    "    exemple = requests.get(x)\n",
    "    dados = exemple.json()\n",
    "    df = pd.json_normalize(dados)\n",
    "    df.iloc[:,2:] = df.iloc[:,2:].abs()\n",
    "\n",
    "    return df"
   ]
  },
  {
   "cell_type": "code",
   "execution_count": null,
   "id": "bcaf4f75-9cef-4684-95e0-deb38b930fd5",
   "metadata": {},
   "outputs": [],
   "source": [
    "# creating table and putting a week list:\n",
    "df_api = request_api('http://localhost:3000/api/ep1')"
   ]
  },
  {
   "cell_type": "code",
   "execution_count": null,
   "id": "75c22079-7c2b-4c0b-ba9e-8ad161234865",
   "metadata": {},
   "outputs": [],
   "source": [
    "df_api.shape"
   ]
  },
  {
   "cell_type": "code",
   "execution_count": null,
   "id": "bc930fd9-1f4b-446b-b5e7-c4db4c62e48f",
   "metadata": {},
   "outputs": [],
   "source": [
    "df_api.head()"
   ]
  },
  {
   "cell_type": "code",
   "execution_count": null,
   "id": "48edc402-b59d-4297-9e9d-947efb5fc2f0",
   "metadata": {},
   "outputs": [],
   "source": [
    "# getting a list of generated products (columns):\n",
    "def prod_in_columns():\n",
    "    global products\n",
    "    products = df_api.columns\n",
    "    products = products[2:]\n",
    "    return products"
   ]
  },
  {
   "cell_type": "code",
   "execution_count": null,
   "id": "485f718b-5955-4952-b5f4-847ea7924a50",
   "metadata": {},
   "outputs": [],
   "source": [
    "prod_in_columns()"
   ]
  },
  {
   "cell_type": "code",
   "execution_count": null,
   "id": "56e1b15a-4528-4cb9-847f-6c6ae34892ef",
   "metadata": {},
   "outputs": [],
   "source": [
    "# transforming prod_0 – prod_7 into integer, because quantity of products purchased is in units:\n",
    "def integer_prod():\n",
    "    for i in products:\n",
    "        for j in range(8):\n",
    "            if i == f'prod_{j}':\n",
    "                df_api[i] = df_api[i].apply(np.floor)\n",
    "    return\n"
   ]
  },
  {
   "cell_type": "code",
   "execution_count": null,
   "id": "31a2adcb-7b16-47f9-9d52-764fac9935cd",
   "metadata": {},
   "outputs": [],
   "source": [
    "integer_prod()"
   ]
  },
  {
   "cell_type": "code",
   "execution_count": null,
   "id": "f50fc9cb-e619-49a0-97bd-3a0bc2ac5b16",
   "metadata": {},
   "outputs": [],
   "source": [
    "df_api.head()"
   ]
  },
  {
   "cell_type": "code",
   "execution_count": null,
   "id": "17f40853-e5c1-4441-ac0f-c41781fd5f88",
   "metadata": {},
   "outputs": [],
   "source": [
    "# creating random prices for items for the first time\n",
    "def price_products():    \n",
    "    for i in products:\n",
    "        if i not in dict_price.keys():\n",
    "            # dict_price{   Prod:   [ Preço(t),             Preço(t+1),  M(t-1),     M(t)} \n",
    "            #                           [0]                     [1]        [2]       [3]      \n",
    "            dict_price[i] = [round(random.uniform(5,50),2),   None,     None,     None]            \n",
    "            dict_price[i][3] = df_api[i].mean()\n",
    "            dict_price[i][1] = dict_price[i][0] \n",
    "        else:\n",
    "            dict_price[i][0] = dict_price[i][1]\n",
    "            dict_price[i][2] = dict_price[i][3]\n",
    "            dict_price[i][3] = df_api[i].mean()\n",
    "            if dict_price[i][2] != 0:\n",
    "                v = ((dict_price[i][3] - dict_price[i][2]) / dict_price[i][2])\n",
    "            else:\n",
    "                v = 0            \n",
    "            fv = 0.5 + (1 / (1 + np.exp(-v)))\n",
    "            pt = dict_price[i][0]\n",
    "            dict_price[i][1] = fv * pt            \n",
    "    return"
   ]
  },
  {
   "cell_type": "code",
   "execution_count": null,
   "id": "7b44a79b-4862-4e42-af25-59d7ddf5e913",
   "metadata": {},
   "outputs": [],
   "source": [
    "price_products()"
   ]
  },
  {
   "cell_type": "code",
   "execution_count": null,
   "id": "7e8246b6-b586-4c82-83d6-67c59985a731",
   "metadata": {},
   "outputs": [],
   "source": [
    "dict_price"
   ]
  },
  {
   "cell_type": "code",
   "execution_count": null,
   "id": "3daf43a7-2a1b-4d97-a7d4-b52cbceff008",
   "metadata": {},
   "outputs": [],
   "source": [
    "# apply the unit price created into the DataFrame\n",
    "def unit_price():\n",
    "    for i in products:\n",
    "        indice_column = df_api.columns.get_loc(i)\n",
    "        indice_column += 1\n",
    "        df_api.insert(indice_column,f'{i}_unit_price',dict_price[i][0])\n",
    "    return"
   ]
  },
  {
   "cell_type": "code",
   "execution_count": null,
   "id": "31248bbb-6b94-4408-af9e-27a73e5fab8d",
   "metadata": {},
   "outputs": [],
   "source": [
    "unit_price()"
   ]
  },
  {
   "cell_type": "code",
   "execution_count": null,
   "id": "521fa139-6a1d-49d3-b5c1-8375e094d775",
   "metadata": {},
   "outputs": [],
   "source": [
    " df_api.head()"
   ]
  },
  {
   "cell_type": "code",
   "execution_count": null,
   "id": "7cef816c-32f6-498c-b40c-b422662608f7",
   "metadata": {},
   "outputs": [],
   "source": [
    "# creating a column with profits (quantity x unit price)\n",
    "def prod_profit():\n",
    "    for i in products:\n",
    "        indice_column = df_api.columns.get_loc(i)\n",
    "        indice_column += 2\n",
    "        df_api.insert(indice_column,f'{i}_revenue',(df_api[i]*df_api[f'{i}_unit_price']))\n",
    "        df_api[f'{i}_revenue'] = df_api[f'{i}_revenue'].apply(lambda x: round(x,2))\n",
    "    return"
   ]
  },
  {
   "cell_type": "code",
   "execution_count": null,
   "id": "1d2ae127-ff9d-4d85-bfab-bf74b972a52f",
   "metadata": {},
   "outputs": [],
   "source": [
    "prod_profit()"
   ]
  },
  {
   "cell_type": "code",
   "execution_count": null,
   "id": "d9404385-a94b-4e54-84c0-942c5afbb283",
   "metadata": {},
   "outputs": [],
   "source": [
    "df_api.tail()"
   ]
  },
  {
   "cell_type": "markdown",
   "id": "546a2edc-d82a-4d54-806b-88ca8af2caeb",
   "metadata": {
    "tags": []
   },
   "source": [
    "### Part II - Concatenating DataFrames"
   ]
  },
  {
   "cell_type": "code",
   "execution_count": null,
   "id": "e9874daa-8fac-40b0-98f3-1b2b477e57ce",
   "metadata": {},
   "outputs": [],
   "source": [
    "# concatenando os dataframes gerados a partir da API\n",
    "def concat_api():\n",
    "    global df_concat\n",
    "    df_concat = pd.concat([df_concat, df_api], axis=0, join='outer')\n",
    "    df_concat= df_concat.reset_index(drop=True)\n",
    "    return"
   ]
  },
  {
   "cell_type": "code",
   "execution_count": null,
   "id": "1e22f39d-ab16-4d61-a407-13cbbeded028",
   "metadata": {},
   "outputs": [],
   "source": [
    "concat_api()"
   ]
  },
  {
   "cell_type": "code",
   "execution_count": null,
   "id": "5c582e6c-278a-4556-bf32-04c6b0dcc597",
   "metadata": {},
   "outputs": [],
   "source": [
    "df_concat.tail(5)"
   ]
  },
  {
   "cell_type": "code",
   "execution_count": null,
   "id": "6192c4d6-1248-4c17-a447-4e3fb23f88ed",
   "metadata": {},
   "outputs": [],
   "source": [
    "df_concat['date'] = df_concat['date'].apply(lambda x: datetime.datetime.fromtimestamp(x))"
   ]
  },
  {
   "cell_type": "markdown",
   "id": "a7bda768-833a-4ad9-8649-6b129b1feb3e",
   "metadata": {
    "jp-MarkdownHeadingCollapsed": true,
    "tags": []
   },
   "source": [
    "### Part III -  Creating Data Bases"
   ]
  },
  {
   "cell_type": "markdown",
   "id": "3747b935-006f-4efe-803d-d078ca6ad1ca",
   "metadata": {
    "jp-MarkdownHeadingCollapsed": true,
    "tags": []
   },
   "source": [
    "#### Separating specific columns from the main DataFrame"
   ]
  },
  {
   "cell_type": "code",
   "execution_count": null,
   "id": "cb9e7dc8-3cf7-4f5a-80f5-c03756cef7ae",
   "metadata": {},
   "outputs": [],
   "source": [
    "df_concat.shape"
   ]
  },
  {
   "cell_type": "code",
   "execution_count": null,
   "id": "52abb0bf-9bd5-45c4-8b8c-5b8ef31fa5cd",
   "metadata": {},
   "outputs": [],
   "source": [
    "df_concat.head()"
   ]
  },
  {
   "cell_type": "markdown",
   "id": "646ae8ef-b672-4e4d-a63b-0f3be88ef163",
   "metadata": {},
   "source": [
    "Creating a DataFrame only with 'id' and 'date'"
   ]
  },
  {
   "cell_type": "code",
   "execution_count": null,
   "id": "5fed2110-5684-4660-9c3e-8056b538d5c1",
   "metadata": {},
   "outputs": [],
   "source": [
    "df_id_date = df_concat.iloc[:,:2]"
   ]
  },
  {
   "cell_type": "code",
   "execution_count": null,
   "id": "de6b357d-a70c-4563-807a-687cfdfb90e4",
   "metadata": {},
   "outputs": [],
   "source": [
    "df_id_date.head()"
   ]
  },
  {
   "cell_type": "markdown",
   "id": "0b0e44a2-acae-4e7a-8442-2a761a7d8dbc",
   "metadata": {},
   "source": [
    "Creating a DataFrame only with product's transaction data"
   ]
  },
  {
   "cell_type": "code",
   "execution_count": null,
   "id": "42a34049-556a-43f4-8575-d3fdaa7c3194",
   "metadata": {},
   "outputs": [],
   "source": [
    "df_prod = pd.concat([df_id_date, df_concat.iloc[:,2::3]], axis=1, join='outer')"
   ]
  },
  {
   "cell_type": "code",
   "execution_count": null,
   "id": "19b12bea-11f0-4f29-8124-864a782283e9",
   "metadata": {},
   "outputs": [],
   "source": [
    "df_prod.shape"
   ]
  },
  {
   "cell_type": "code",
   "execution_count": null,
   "id": "c2e5daa7-9b69-47bc-be20-1f6d1b161705",
   "metadata": {},
   "outputs": [],
   "source": [
    "df_prod.head()"
   ]
  },
  {
   "cell_type": "markdown",
   "id": "53e8b02b-6b55-4c60-b08b-0bc1a8822577",
   "metadata": {},
   "source": [
    "Creating a DataFrame only with product's unit price data"
   ]
  },
  {
   "cell_type": "code",
   "execution_count": null,
   "id": "b74c688e-28a6-4c92-b2ca-dc9fc8a17f9b",
   "metadata": {},
   "outputs": [],
   "source": [
    "df_prod_price = pd.concat([df_id_date, df_concat.iloc[:,3::3]], axis=1, join='outer')"
   ]
  },
  {
   "cell_type": "code",
   "execution_count": null,
   "id": "02a9043e-0b69-4e30-9046-f5f7d76358a6",
   "metadata": {},
   "outputs": [],
   "source": [
    "df_prod_price.head()"
   ]
  },
  {
   "cell_type": "markdown",
   "id": "b3b3ec75-f5c1-4bd6-8107-dd39e424d294",
   "metadata": {},
   "source": [
    "Creating a DataFrame only with the product's revenue data"
   ]
  },
  {
   "cell_type": "code",
   "execution_count": null,
   "id": "80b62869-f4af-4922-9ce2-92088f2441ec",
   "metadata": {},
   "outputs": [],
   "source": [
    "df_prod_revenue = pd.concat([df_id_date, df_concat.iloc[:,4::3]], axis=1, join='outer')"
   ]
  },
  {
   "cell_type": "code",
   "execution_count": null,
   "id": "d324e181-2baf-409c-82ab-c7c18618aec7",
   "metadata": {},
   "outputs": [],
   "source": [
    "df_prod_revenue.head()"
   ]
  },
  {
   "cell_type": "markdown",
   "id": "3c488a6f-58c3-4314-b51a-50719043c732",
   "metadata": {
    "jp-MarkdownHeadingCollapsed": true,
    "tags": []
   },
   "source": [
    "#### Database with all transactions"
   ]
  },
  {
   "cell_type": "code",
   "execution_count": null,
   "id": "14199640-503f-48fc-b6ac-46d2298ea1b8",
   "metadata": {},
   "outputs": [],
   "source": [
    "def database_all_sells():\n",
    "    global df_all_sells\n",
    "    \n",
    "    df_id_date = df_concat.iloc[:,:2]\n",
    "    df_all_sells = pd.concat([df_id_date, df_concat.iloc[:,2::3]], axis=1, join='outer')    \n",
    "    \n",
    "    return df_all_sells.to_csv('df_all_sells.csv')"
   ]
  },
  {
   "cell_type": "code",
   "execution_count": null,
   "id": "a1a49ba9-af99-49c2-a899-60c39fb77bd0",
   "metadata": {},
   "outputs": [],
   "source": [
    "database_all_sells()"
   ]
  },
  {
   "cell_type": "code",
   "execution_count": null,
   "id": "62ef1276-d0fc-4531-9151-ad767ab8be32",
   "metadata": {},
   "outputs": [],
   "source": [
    "df_all_sells.head()"
   ]
  },
  {
   "cell_type": "markdown",
   "id": "5d79aefc-c990-4fe7-a1f1-dc3d94a46392",
   "metadata": {
    "jp-MarkdownHeadingCollapsed": true,
    "tags": []
   },
   "source": [
    "#### Database with total transactions by month"
   ]
  },
  {
   "cell_type": "code",
   "execution_count": null,
   "id": "3bd7e0d3-a12a-48e0-970b-4cd4280df765",
   "metadata": {},
   "outputs": [],
   "source": [
    "def database_monthly_sells():\n",
    "    global df_monthly_sells, df_prod\n",
    "    \n",
    "    df_id_date = df_concat.iloc[:,:2]\n",
    "    df_prod = pd.concat([df_id_date, df_concat.iloc[:,2::3]], axis=1, join='outer')\n",
    "    df_monthly_sells = df_prod.groupby(pd.Grouper(key='date', freq='M')).sum()    \n",
    "    \n",
    "    return df_monthly_sells.to_csv(\"df_monthly_sells.csv\")"
   ]
  },
  {
   "cell_type": "code",
   "execution_count": null,
   "id": "54711f12-bfb6-4dd9-a995-4faa22811546",
   "metadata": {},
   "outputs": [],
   "source": [
    "database_monthly_sells()"
   ]
  },
  {
   "cell_type": "code",
   "execution_count": null,
   "id": "b23a4a5a-8702-4838-b80c-48fa560dcf5a",
   "metadata": {},
   "outputs": [],
   "source": [
    "df_monthly_sells.head()"
   ]
  },
  {
   "cell_type": "markdown",
   "id": "a73a4131-7313-435e-ad19-03e6a43d6662",
   "metadata": {
    "jp-MarkdownHeadingCollapsed": true,
    "tags": []
   },
   "source": [
    "#### Database with weekly price of products, in R$."
   ]
  },
  {
   "cell_type": "code",
   "execution_count": null,
   "id": "27781051-8f1e-4f68-84f5-7a2d1b19270c",
   "metadata": {},
   "outputs": [],
   "source": [
    "def database_weekly_price():\n",
    "    global df_weekly_price \n",
    "    \n",
    "    df_id_date = df_concat.iloc[:,:2]\n",
    "    df_prod_price = pd.concat([df_id_date, df_concat.iloc[:,3::3]], axis=1, join='outer')\n",
    "    df_prod_price.insert(0,'Year', df_prod_price['date'].dt.isocalendar().year)\n",
    "    df_prod_price.insert(1,'Week', df_prod_price['date'].dt.isocalendar().week)\n",
    "    df_weekly_price = df_prod_price.groupby(pd.Grouper(key='date', freq='W')).max()\n",
    "    df_weekly_price = df_weekly_price.drop(columns=['id'])\n",
    "    \n",
    "    return df_weekly_price.to_csv(\"df_weekly_price.csv\")"
   ]
  },
  {
   "cell_type": "code",
   "execution_count": null,
   "id": "aa0e545b-06e0-4f4c-b587-a9f2908f9ec3",
   "metadata": {},
   "outputs": [],
   "source": [
    "database_weekly_price()"
   ]
  },
  {
   "cell_type": "code",
   "execution_count": null,
   "id": "be88179b-6ea4-4eba-92c1-46eead8bf1d6",
   "metadata": {},
   "outputs": [],
   "source": [
    "df_weekly_price.head()"
   ]
  },
  {
   "cell_type": "markdown",
   "id": "354ad2bd-06e9-40e7-949e-d365336663fb",
   "metadata": {
    "jp-MarkdownHeadingCollapsed": true,
    "tags": []
   },
   "source": [
    "#### Database with total monthly revenue, in R$."
   ]
  },
  {
   "cell_type": "code",
   "execution_count": null,
   "id": "4d284b42-707e-494a-87b2-aaf5c1f5e8f6",
   "metadata": {},
   "outputs": [],
   "source": [
    "def database_monthly_revenue():\n",
    "    global df_monthly_revenue \n",
    "    \n",
    "    df_id_date = df_concat.iloc[:,:2]\n",
    "    df_prod_revenue = pd.concat([df_id_date, df_concat.iloc[:,4::3]], axis=1, join='outer')\n",
    "    df_monthly_revenue = df_prod_revenue.groupby(pd.Grouper(key='date', freq='M')).sum()\n",
    "    df_monthly_revenue.columns = df_prod.columns[2:]\n",
    "    df_monthly_revenue['balance'] = df_monthly_revenue.iloc[:,:].sum(axis = 1)\n",
    "        \n",
    "    return df_monthly_revenue.to_csv(\"df_month_revenue.csv\")\n"
   ]
  },
  {
   "cell_type": "code",
   "execution_count": null,
   "id": "597745e2-3b65-4d79-affe-f0c0258b9c82",
   "metadata": {},
   "outputs": [],
   "source": [
    "database_monthly_revenue()"
   ]
  },
  {
   "cell_type": "code",
   "execution_count": null,
   "id": "e21acbeb-8694-4b60-aaf6-d57e263af1f2",
   "metadata": {},
   "outputs": [],
   "source": [
    "df_monthly_revenue.head()"
   ]
  },
  {
   "cell_type": "markdown",
   "id": "32917a3f-57cc-4bc8-963c-a1847d0576b6",
   "metadata": {
    "jp-MarkdownHeadingCollapsed": true,
    "tags": []
   },
   "source": [
    "#### Database with consolidadte"
   ]
  },
  {
   "cell_type": "code",
   "execution_count": null,
   "id": "3551b496-fb33-42d7-bdff-cdc060c6325c",
   "metadata": {},
   "outputs": [],
   "source": [
    "def database_consolidate():\n",
    "    global  df_consolidate   \n",
    "    \n",
    "    df_consolidate = df_monthly_revenue.T\n",
    "    df_consolidate.drop(['balance'],inplace=True)\n",
    "    df_consolidate['balance'] = df_consolidate.iloc[:,:].sum(axis = 1)\n",
    "    df_consolidate.index.name = 'product'\n",
    "\n",
    "    return df_consolidate.to_csv(\"df_consolidate.csv\")"
   ]
  },
  {
   "cell_type": "code",
   "execution_count": null,
   "id": "b390480b-a02e-4fa3-b49d-1443e597ed01",
   "metadata": {},
   "outputs": [],
   "source": [
    "database_consolidate()"
   ]
  },
  {
   "cell_type": "code",
   "execution_count": null,
   "id": "e6f22d6e-47d9-4b91-a93f-d6cb344b45f2",
   "metadata": {},
   "outputs": [],
   "source": [
    "df_consolidate.head(20)"
   ]
  },
  {
   "cell_type": "markdown",
   "id": "670dfeab-7975-4ed2-95a9-701fe2c3d03f",
   "metadata": {
    "jp-MarkdownHeadingCollapsed": true,
    "tags": []
   },
   "source": [
    "## Exploratory Data Analysis (EDA)"
   ]
  },
  {
   "cell_type": "markdown",
   "id": "579a96b3-4480-4034-8a9a-9d8429b994a6",
   "metadata": {
    "jp-MarkdownHeadingCollapsed": true,
    "tags": []
   },
   "source": [
    "### Variáveis utilizadas"
   ]
  },
  {
   "cell_type": "markdown",
   "id": "b7a4717b-016a-4c41-8101-eb1fb21fff44",
   "metadata": {},
   "source": [
    "- **df_concat** - Tabela principal com todos os dados obtidos e concatenados\n",
    "- **df_all_sells** - Tabela com o volume de vendas totais\n",
    "- **df_monthly_sells** - Tabela com o volume agrupado por mês\n",
    "- **df_weekly_price** - Tabela com os preços semanais de cada produto\n",
    "- **df_monthly_revenue** - Tabela com a receita dos produtos vendidos agrupado em meses\n",
    "- **df_consolidate** - Tabela com a receita consolidada agrupada por produtos"
   ]
  },
  {
   "cell_type": "code",
   "execution_count": null,
   "id": "46558e51-1568-471d-b6a8-cc5d50208cc5",
   "metadata": {},
   "outputs": [],
   "source": [
    "# Main DataFrame\n",
    "df_concat.head()"
   ]
  },
  {
   "cell_type": "code",
   "execution_count": null,
   "id": "380cdd8d-f42f-429b-bd3e-8ad99db545a0",
   "metadata": {},
   "outputs": [],
   "source": [
    "# DataFrame with all transactions\n",
    "df_all_sells.head()"
   ]
  },
  {
   "cell_type": "code",
   "execution_count": null,
   "id": "6aee0dc8-1075-4e29-bb02-5c76f4c6add2",
   "metadata": {},
   "outputs": [],
   "source": [
    "# DataFrame with all transactions by month\n",
    "df_monthly_sells.head()"
   ]
  },
  {
   "cell_type": "code",
   "execution_count": null,
   "id": "ccc3479b-7b1f-4077-8c65-9054cfdbdd58",
   "metadata": {},
   "outputs": [],
   "source": [
    "# DataFrame with all prices by week\n",
    "df_weekly_price.head()"
   ]
  },
  {
   "cell_type": "code",
   "execution_count": null,
   "id": "f3c5b945-5802-40f9-94fd-ac2bb0f527ad",
   "metadata": {},
   "outputs": [],
   "source": [
    "# DataFrame with the revenue by month\n",
    "df_monthly_revenue.head()"
   ]
  },
  {
   "cell_type": "code",
   "execution_count": null,
   "id": "8c1f067b-3e60-4651-8090-b049db27164e",
   "metadata": {},
   "outputs": [],
   "source": [
    "# DataFrame with the product as row and revenue by month as column\n",
    "df_consolidate.head()"
   ]
  },
  {
   "cell_type": "markdown",
   "id": "b0e58cbf-334d-452f-9594-0b4d130dd41b",
   "metadata": {
    "jp-MarkdownHeadingCollapsed": true,
    "tags": []
   },
   "source": [
    "### Informações Gerais"
   ]
  },
  {
   "cell_type": "code",
   "execution_count": null,
   "id": "d6b38fc9-43f9-48d8-b80b-890b89f8c4a7",
   "metadata": {},
   "outputs": [],
   "source": [
    "# Seprando produtos a unidade (unid) e a quilograma (kg)\n",
    "a=[] # lista produtos a unidade\n",
    "b=[] # lista produtos a kg\n",
    "for i in range(21):    \n",
    "    if i <= 7:\n",
    "        if f'prod_{i}'in dict_price.keys():\n",
    "            a.append(f'prod_{i}')\n",
    "    else:\n",
    "        if f'prod_{i}'in dict_price.keys():\n",
    "            b.append(f'prod_{i}') "
   ]
  },
  {
   "cell_type": "code",
   "execution_count": null,
   "id": "f34c1f0b-d14e-479b-8c82-73065161cf72",
   "metadata": {},
   "outputs": [],
   "source": [
    "print()\n",
    "print('INFORMAÇÕES  GERAIS')\n",
    "print()\n",
    "print(\n",
    "    f'Números de produtos comercializados: {len(dict_price.keys())}\\n'\n",
    "    f'Total de números de pedidos: {df_all_sells.shape[0]} \\n'\n",
    "    f'Data inicial: {df_all_sells.iloc[0, 1].strftime(\"%m/%d/%Y\")}\\n'\n",
    "    f'Data final: {df_all_sells.iloc[-1, 1].strftime(\"%m/%d/%Y\")} \\n'\n",
    "    f'Produtos comercializados a unidade (unid): {a} \\n'\n",
    "    f'Produtos comercializados a quilogramas (Kg): {b}'\n",
    "    )\n",
    "print()\n"
   ]
  },
  {
   "cell_type": "markdown",
   "id": "dc25f7b9-9cd7-4c25-b247-088c54c9c4d2",
   "metadata": {
    "tags": []
   },
   "source": [
    "### Análise dos Dados"
   ]
  },
  {
   "cell_type": "markdown",
   "id": "0085a385-9a7c-4773-b204-91f8862c204f",
   "metadata": {
    "jp-MarkdownHeadingCollapsed": true,
    "tags": []
   },
   "source": [
    "#### Quais as informações sobre as quantidades de produtos vendidos?"
   ]
  },
  {
   "cell_type": "code",
   "execution_count": null,
   "id": "00bca546-276b-4cd1-a26a-4339d56f9632",
   "metadata": {},
   "outputs": [],
   "source": [
    "df_sum_sells = pd.DataFrame(df_all_sells.iloc[:,2:].sum())\n",
    "df_sum_sells = df_sum_sells.sort_values(by=0)\n",
    "\n",
    "plt.figure(figsize=(16,6), dpi=100)\n",
    "\n",
    "plt.subplot(1, 2, 1)  \n",
    "plt.xticks(rotation=0)\n",
    "ax = sns.barplot(y = df_sum_sells.index[:len(a)], x = df_sum_sells.iloc[:len(a),0], data = df_sum_sells, palette=\"Set2\")\n",
    "ax.bar_label(ax.containers[0], fmt = '%d')\n",
    "plt.title( \"Produtos vendidos por Unidade (Unid)\" , fontsize=20, pad=10) \n",
    "plt.ylabel( \"Produtos\" , size = 12 )\n",
    "plt.xlabel( \"Quantidade de Vendas (unid)\" , size = 12 ) \n",
    "plt.ticklabel_format(style='plain', axis='x')\n",
    "\n",
    "\n",
    "plt.subplot(1, 2, 2) \n",
    "plt.xticks(rotation=0)\n",
    "ax = sns.barplot(y = df_sum_sells.index[len(a):], x = df_sum_sells.iloc[len(a):,0], data = df_sum_sells,  palette=\"Set2\")\n",
    "ax.bar_label(ax.containers[0], fmt = '%d')\n",
    "plt.title( \"Produtos vendidos por Volume (Kg)\" , fontsize=20, pad=10 ) \n",
    "plt.ylabel( \"Produtos\" , size = 12 )\n",
    "plt.xlabel( \"Quantidade de Vendas (kg)\" , size = 12 ) \n",
    "plt.ticklabel_format(style='plain', axis='x')\n",
    "\n",
    "plt.show()"
   ]
  },
  {
   "cell_type": "code",
   "execution_count": null,
   "id": "afffaeb6-4f21-43f9-9b59-fdedf7c6a47d",
   "metadata": {},
   "outputs": [],
   "source": [
    "colors = sns.color_palette(\"Set2\")\n",
    "plt.figure(figsize=(16,6), dpi=100)\n",
    "\n",
    "plt.subplot(1, 2, 1)  \n",
    "plt.pie(df_sum_sells.iloc[:len(a),0], labels = df_sum_sells.index[:len(a)], autopct='%.0f%%', colors = colors)\n",
    "plt.ylabel(\"\", size = 12)\n",
    "plt.xlabel(\"Porcentagem de vendas\", size = 12)\n",
    "plt.title(\"Produtos vendidos por Unidade (Unid)\", fontsize=20, pad=10)\n",
    "\n",
    "plt.subplot(1, 2, 2) \n",
    "plt.pie(df_sum_sells.iloc[len(a):,0], labels = df_sum_sells.index[len(a):], autopct='%.0f%%', colors = colors)\n",
    "plt.ylabel(\"\", size = 12)\n",
    "plt.xlabel(\"Porcentagem de vendas\", size = 12)\n",
    "plt.title(\"Produtos vendidos por Volume (Kg)\", fontsize=20, pad=10)\n",
    "\n",
    "plt.show()"
   ]
  },
  {
   "cell_type": "code",
   "execution_count": null,
   "id": "15bc86bd-fbab-488d-a67d-68ac4373ff6b",
   "metadata": {},
   "outputs": [],
   "source": [
    "def sells_prod(prod):\n",
    "    df = df_monthly_sells.copy()\n",
    "    df['Year'] = df.index.year\n",
    "    df['Month'] = df.index.month\n",
    "    df = df.pivot('Month','Year', prod)\n",
    "    plt.figure(dpi=100, figsize=(10,7))\n",
    "    plt.title(f'Vendas {prod}', fontsize=20, pad=20)\n",
    "    sns.heatmap(df, fmt = 'g',  annot = True, cmap = 'Blues')\n",
    "    \n",
    "    return plt.show()"
   ]
  },
  {
   "cell_type": "code",
   "execution_count": null,
   "id": "1ac96e31-855d-447b-8f23-5a51b9a204d9",
   "metadata": {},
   "outputs": [],
   "source": [
    "sells_prod('prod_1')"
   ]
  },
  {
   "cell_type": "markdown",
   "id": "9d16248a-6061-4e7b-b304-f5916ada8b97",
   "metadata": {
    "jp-MarkdownHeadingCollapsed": true,
    "tags": []
   },
   "source": [
    "#### Quais são os produtos com maiores receitas?"
   ]
  },
  {
   "cell_type": "code",
   "execution_count": null,
   "id": "4394dbcc-fae1-47cf-b52e-1124bfa4d761",
   "metadata": {},
   "outputs": [],
   "source": [
    "df_top_10_prod = df_consolidate.sort_values(ascending=False, by='balance')"
   ]
  },
  {
   "cell_type": "code",
   "execution_count": null,
   "id": "9b369022-0ea5-4505-8830-55e325ad4bd5",
   "metadata": {},
   "outputs": [],
   "source": [
    "plt.figure(dpi=100, figsize=(30,40))\n",
    "ax = df_top_10_prod.iloc[:10,-1].plot(kind='bar', figsize=(14,8))\n",
    "ax.bar_label(ax.containers[0], fmt = '%d')\n",
    "plt.ticklabel_format(style='plain', axis='y')\n",
    "plt.xticks(rotation=45)\n",
    "plt.title('Produtos ordenados por receita', fontsize=20, pad=20)\n",
    "\n",
    "plt.show()"
   ]
  },
  {
   "cell_type": "code",
   "execution_count": null,
   "id": "7126f7eb-4e88-4a28-88aa-4e457c64f404",
   "metadata": {},
   "outputs": [],
   "source": [
    "plt.figure(dpi=100, figsize=(10,7))\n",
    "\n",
    "plt.pie(df_top_10_prod['balance'], labels = df_top_10_prod.index, autopct='%.0f%%', colors = colors)\n",
    "plt.ylabel(\"\", size = 12)\n",
    "plt.xlabel(\"\", size = 12)\n",
    "plt.title(\"Produdos por Receita\", fontsize=20, pad=10)\n",
    "\n",
    "plt.show()"
   ]
  },
  {
   "cell_type": "markdown",
   "id": "6855c453-1abd-479f-877f-bf25c7a875db",
   "metadata": {
    "jp-MarkdownHeadingCollapsed": true,
    "tags": []
   },
   "source": [
    "#### Existe alguma correlação entre produtos vendidos?"
   ]
  },
  {
   "cell_type": "code",
   "execution_count": null,
   "id": "6450c529-3877-4b62-8321-d6b428fa2265",
   "metadata": {},
   "outputs": [],
   "source": [
    "sns.set_style(\"whitegrid\")\n",
    "plt.figure(dpi=100, figsize=(24, 18))\n",
    "sns.heatmap(df_all_sells.corr(), annot=True, cmap=\"Blues\") \n",
    "plt.title(\"Avaliação da Correlação entre os produtos vendidos\", fontsize=30, pad=20) # title\n",
    "plt.xticks(fontsize=15) \n",
    "plt.yticks(fontsize=15);"
   ]
  },
  {
   "cell_type": "markdown",
   "id": "5c68ba7e-6f8f-4750-b23b-6de49c5f4e9a",
   "metadata": {
    "jp-MarkdownHeadingCollapsed": true,
    "tags": []
   },
   "source": [
    "#### Qual foi o melhor mês para vendas? Quanto foi ganho naquele mês?"
   ]
  },
  {
   "cell_type": "code",
   "execution_count": null,
   "id": "3fbd7e3f-f898-4a15-a756-c4c76a3cd04c",
   "metadata": {},
   "outputs": [],
   "source": [
    "top_10_month = df_monthly_revenue.sort_values(ascending=False, by='balance')"
   ]
  },
  {
   "cell_type": "code",
   "execution_count": null,
   "id": "51350209-ee05-47aa-b4c7-6edb8bff1068",
   "metadata": {},
   "outputs": [],
   "source": [
    "top_10_month.iloc[:10,:]"
   ]
  },
  {
   "cell_type": "code",
   "execution_count": null,
   "id": "d3b04453-ffb9-4d32-9fc0-59dc625f7ce2",
   "metadata": {},
   "outputs": [],
   "source": [
    "plt.figure(dpi=100, figsize=(30,40))\n",
    "\n",
    "ax = top_10_month.iloc[:10,:].plot(kind='bar', figsize=(14,8))\n",
    "\n",
    "plt.ticklabel_format(style='plain', axis='y')\n",
    "plt.xticks(rotation=45)\n",
    "\n",
    "plt.show()"
   ]
  },
  {
   "cell_type": "code",
   "execution_count": null,
   "id": "5731f395-7bb3-4b4f-84b6-3efec45f40c4",
   "metadata": {},
   "outputs": [],
   "source": [
    "plt.figure(dpi=100, figsize=(8,6))\n",
    "df_monthly_revenue.iloc[1:,:-1].plot(kind='line')\n",
    "plt.title(f'Variação de receita dos produtos', fontsize=20, pad=20)\n",
    "plt.show()"
   ]
  },
  {
   "cell_type": "markdown",
   "id": "5f5e2ac7-9bbb-4dcf-b835-88cb23c8f1d3",
   "metadata": {
    "jp-MarkdownHeadingCollapsed": true,
    "tags": []
   },
   "source": [
    "#### Qual foi o melhor ano para vendas? Quanto foi ganho naquele ano?"
   ]
  },
  {
   "cell_type": "code",
   "execution_count": null,
   "id": "bd069fce-6d6d-4436-bdcd-c4de4e7feecd",
   "metadata": {},
   "outputs": [],
   "source": [
    "def df_year_revenue():\n",
    "    global df_year_revenue\n",
    "    \n",
    "    df_id_date = df_concat.iloc[:,:2]\n",
    "    df_prod_revenue = pd.concat([df_id_date, df_concat.iloc[:,4::3]], axis=1, join='outer')\n",
    "    df_year_revenue = df_prod_revenue.groupby(pd.Grouper(key='date', freq='Y')).sum()\n",
    "    df_year_revenue.columns = df_prod.columns[2:]\n",
    "    df_year_revenue['balance'] = df_year_revenue.iloc[:,:].sum(axis = 1)\n",
    "        \n",
    "    return df_year_revenue"
   ]
  },
  {
   "cell_type": "code",
   "execution_count": null,
   "id": "37dbe000-24ab-4368-bb13-222aefa350c3",
   "metadata": {},
   "outputs": [],
   "source": [
    "df_year_revenue = df_year_revenue()"
   ]
  },
  {
   "cell_type": "code",
   "execution_count": null,
   "id": "254918b5-71d9-4c96-b47f-c58c9bfa9008",
   "metadata": {},
   "outputs": [],
   "source": [
    "df_year_revenue"
   ]
  },
  {
   "cell_type": "code",
   "execution_count": null,
   "id": "26fe88b2-585b-43df-9f7a-9935061578af",
   "metadata": {},
   "outputs": [],
   "source": [
    "sns.barplot(y = 'balance', x = df_year_revenue.index.year , data = df_year_revenue )\n",
    "plt.xticks(rotation=0)\n",
    "plt.ticklabel_format(style='plain', axis='y')\n",
    "plt.title(f'Balanço Anual', fontsize=20, pad=20)\n",
    "plt.show()"
   ]
  },
  {
   "cell_type": "markdown",
   "id": "62428604-dc5b-4e7c-b927-5b2cd54f497c",
   "metadata": {
    "jp-MarkdownHeadingCollapsed": true,
    "tags": []
   },
   "source": [
    "#### Qual foi a média/max/min dos preços de cada produto?"
   ]
  },
  {
   "cell_type": "code",
   "execution_count": null,
   "id": "6cef699e-0ad5-4c18-b1f8-1cfd264014eb",
   "metadata": {},
   "outputs": [],
   "source": [
    "df_weekly_price.iloc[:,2:].describe()"
   ]
  },
  {
   "cell_type": "code",
   "execution_count": null,
   "id": "2c8a5254-fd90-4d87-8b46-474a757d50b2",
   "metadata": {},
   "outputs": [],
   "source": [
    "def var_price(prod_unit_price):\n",
    "    plt.figure(dpi=100, figsize=(8,6))\n",
    "    sns.lineplot(data=df_weekly_price, y=prod_unit_price, x=df_weekly_price.index, color = 'blue')\n",
    "    plt.title(f'Variação {prod_unit_price}', fontsize=20, pad=20)\n",
    "    plt.show()"
   ]
  },
  {
   "cell_type": "code",
   "execution_count": null,
   "id": "0c639b1d-b94f-46af-a1c0-ef251fcf5453",
   "metadata": {},
   "outputs": [],
   "source": [
    "var_price('prod_15_unit_price')"
   ]
  },
  {
   "cell_type": "markdown",
   "id": "a6524795-afc3-4fad-9db8-d2231e49242b",
   "metadata": {
    "jp-MarkdownHeadingCollapsed": true,
    "tags": []
   },
   "source": [
    "## FIM"
   ]
  },
  {
   "cell_type": "markdown",
   "id": "65a9cce8-624f-42cd-b32d-deddfd903e21",
   "metadata": {},
   "source": [
    "<center>\n",
    "<img src=\"https://i.postimg.cc/MTX0VKmf/Thank-You-Retro-Background-Instagram-Post.png\" width=\"600\" alt=\"cognitiveclass.ai logo\"  /></center>"
   ]
  }
 ],
 "metadata": {
  "kernelspec": {
   "display_name": "Python 3 (ipykernel)",
   "language": "python",
   "name": "python3"
  },
  "language_info": {
   "codemirror_mode": {
    "name": "ipython",
    "version": 3
   },
   "file_extension": ".py",
   "mimetype": "text/x-python",
   "name": "python",
   "nbconvert_exporter": "python",
   "pygments_lexer": "ipython3",
   "version": "3.9.12"
  },
  "vscode": {
   "interpreter": {
    "hash": "6e3977c52f5249dbc2a33b897faad1e0916758085298811edbd14ed6ad707d81"
   }
  }
 },
 "nbformat": 4,
 "nbformat_minor": 5
}
